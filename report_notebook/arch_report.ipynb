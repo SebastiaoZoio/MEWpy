{
 "cells": [
  {
   "attachments": {},
   "cell_type": "markdown",
   "metadata": {},
   "source": [
    "### GERM \n",
    "##### Module com ferramentas para construir, simular e analisar GEnome-scale Regulatory and Metabolic (GERM) models\n"
   ]
  },
  {
   "cell_type": "code",
   "execution_count": 2,
   "metadata": {},
   "outputs": [
    {
     "name": "stdout",
     "output_type": "stream",
     "text": [
      "\u001b[01;34m../src/mewpy/germ\u001b[00m\n",
      "├── \u001b[01;34malgebra\u001b[00m\n",
      "├── \u001b[01;34manalysis\u001b[00m\n",
      "├── \u001b[01;34mlp\u001b[00m\n",
      "├── \u001b[01;34mmodels\u001b[00m\n",
      "├── \u001b[01;34msolution\u001b[00m\n",
      "└── \u001b[01;34mvariables\u001b[00m\n",
      "\n",
      "6 directories, 0 files\n"
     ]
    }
   ],
   "source": [
    "!tree ../src/mewpy/germ -L 1 -I \"__*\""
   ]
  },
  {
   "attachments": {},
   "cell_type": "markdown",
   "metadata": {},
   "source": [
    "#### GERM/Models\n",
    "##### Representação de modelos no mewpy. Modelos:\n",
    "1. Regulatórios\n",
    "2. Metabólicos\n",
    "3. Regulatórios + Metabólicos"
   ]
  },
  {
   "cell_type": "code",
   "execution_count": 3,
   "metadata": {},
   "outputs": [
    {
     "name": "stdout",
     "output_type": "stream",
     "text": [
      "\u001b[01;34m../src/mewpy/germ/models\u001b[00m\n",
      "├── cobra_wrapper.py\n",
      "├── metabolic.py\n",
      "├── mewpy_metabolic.py\n",
      "├── model.py\n",
      "├── reframed_wrapper.py\n",
      "├── regulatory.py\n",
      "└── serialization.py\n",
      "\n",
      "0 directories, 7 files\n"
     ]
    }
   ],
   "source": [
    "!tree ../src/mewpy/germ/models -L 1 -I \"__*\""
   ]
  },
  {
   "attachments": {},
   "cell_type": "markdown",
   "metadata": {},
   "source": [
    "#### GERM models architecture\n",
    "<img src=\"images/germmodels_arch.png\" alt=\"GERM models Architecture\" width=\"600\">"
   ]
  },
  {
   "attachments": {},
   "cell_type": "markdown",
   "metadata": {},
   "source": [
    "##### Para instanciar estes modelos podemos usar a função: \n",
    "\n",
    "```python\n",
    "mewpy.io.read_model()\n",
    "\n",
    "- Input: 1 ou 2 Readers\n",
    "- Output: Model (Regulatório | Metabólico | Regulatório + Metabólico)\n"
   ]
  },
  {
   "cell_type": "code",
   "execution_count": 8,
   "metadata": {},
   "outputs": [
    {
     "name": "stdout",
     "output_type": "stream",
     "text": [
      "Help on function read_model in module mewpy.io:\n",
      "\n",
      "read_model(*readers: mewpy.io.reader.Reader, warnings: bool = True) -> Union[ForwardRef('Model'), ForwardRef('RegulatoryModel'), ForwardRef('MetabolicModel')]\n",
      "    Reading a GERM model encoded into one or more file types (e.g. sbml, csv, cobrapy, reframed, json, etc).\n",
      "    It can return a metabolic, regulatory or metabolic-regulatory model from multiple files.\n",
      "    \n",
      "    A reader must be provided for each file type.\n",
      "    Reading will take place according to the order and settings of the each reader.\n",
      "    \n",
      "    All files are closed upon reading or failure\n",
      "    \n",
      "    :param readers: Multiple Reader instances that will be used to read multiple file types into a single GERM model\n",
      "    :param warnings: Whether to launch warnings found during reading\n",
      "    :return: mewpy metabolic, regulatory or both model\n",
      "\n"
     ]
    }
   ],
   "source": [
    "from mewpy.io import read_model\n",
    "help(read_model)"
   ]
  },
  {
   "attachments": {},
   "cell_type": "markdown",
   "metadata": {},
   "source": [
    "##### Os Readers são objetos utilizados para ler um modelo.\n",
    "\n",
    "```python\n",
    "mewpy.io.reader\n",
    "\n",
    "- Engine: *lista abaixo*\n",
    "- IO: representação de um modelo (.sbml, .csv, CobraModel, ReframedModel, etc…)\n"
   ]
  },
  {
   "cell_type": "code",
   "execution_count": 11,
   "metadata": {},
   "outputs": [
    {
     "data": {
      "text/plain": [
       "<mewpy.io.reader.Reader at 0x7ff8dbd213a0>"
      ]
     },
     "execution_count": 11,
     "metadata": {},
     "output_type": "execute_result"
    }
   ],
   "source": [
    "# Exemplo de instancia de um reader\n",
    "from mewpy.io import Engines\n",
    "from mewpy.io.reader import Reader\n",
    "from cobra.io import read_sbml_model\n",
    "\n",
    "cobra_model = read_sbml_model(\"./models/e_coli_core.xml\")\n",
    "\n",
    "Reader(Engines.CobraModelEngine, cobra_model)"
   ]
  },
  {
   "attachments": {},
   "cell_type": "markdown",
   "metadata": {},
   "source": [
    "### Engine List\n",
    "| Engine                       | IO                      | Output Model             |\n",
    "|------------------------------|-------------------------|--------------------------|\n",
    "| MetabolicSBML                | SBML file               | MewpyMetabolic           |\n",
    "| BooleanRegulatoryCSV         | CSV file                | RegulatoryModel          |\n",
    "| CobraModelEngine             | cobra.core.model        | CobraWrapper             |\n",
    "| ReframedModelEngine          | reframed.core.cbmodel   | ReframedWrapper          |\n",
    "| CoExpressionRegulatoryCSV    | CSV file                | RegulatoryModel          |\n",
    "| TargetRegulatorRegulatoryCSV | CSV file                | RegulatoryModel          |\n",
    "| JSON                         | JSON File               | MewpyMetabolic           |\n",
    "| RegulatorySBML               | SBML file               | RegulatoryModel          |\n"
   ]
  },
  {
   "attachments": {},
   "cell_type": "markdown",
   "metadata": {},
   "source": [
    "## Exemplos de ler GERM models"
   ]
  },
  {
   "attachments": {},
   "cell_type": "markdown",
   "metadata": {},
   "source": [
    "#### 1. Read a Cobrapy model instance"
   ]
  },
  {
   "cell_type": "code",
   "execution_count": 16,
   "metadata": {},
   "outputs": [
    {
     "data": {
      "text/html": [
       "\n",
       "            <table>\n",
       "                <tr>\n",
       "                    <th><b>Model</b></th>\n",
       "                    <td>e_coli_core</td>\n",
       "                </tr>\n",
       "                <tr>\n",
       "                    <th>Name</th>\n",
       "                    <td>E. coli core model - Orth et al 2010</td>\n",
       "                </tr>\n",
       "                <tr>\n",
       "                    <th>Types</th>\n",
       "                    <td>metabolic</td>\n",
       "                </tr>\n",
       "                <tr>\n",
       "                    <th>Compartments</th>\n",
       "                    <td>c, e</td>\n",
       "                </tr>\n",
       "                <tr>\n",
       "                    <th>Reactions</th>\n",
       "                    <td>95</td>\n",
       "                </tr>\n",
       "                <tr>\n",
       "                    <th>Metabolites</th>\n",
       "                    <td>72</td>\n",
       "                </tr>\n",
       "                <tr>\n",
       "                    <th>Genes</th>\n",
       "                    <td>137</td>\n",
       "                </tr>\n",
       "                <tr>\n",
       "                    <th>Exchanges</th>\n",
       "                    <td>20</td>\n",
       "                </tr>\n",
       "                <tr>\n",
       "                    <th>Demands</th>\n",
       "                    <td>0</td>\n",
       "                </tr>\n",
       "                <tr>\n",
       "                    <th>Sinks</th>\n",
       "                    <td>0</td>\n",
       "                </tr>\n",
       "                <tr>\n",
       "                    <th>Objective</th>\n",
       "                    <td>Biomass_Ecoli_core</td>\n",
       "                </tr>\n",
       "            </table>\n",
       "            "
      ],
      "text/plain": [
       "Model e_coli_core - E. coli core model - Orth et al 2010"
      ]
     },
     "execution_count": 16,
     "metadata": {},
     "output_type": "execute_result"
    }
   ],
   "source": [
    "\n",
    "cobra_model = read_sbml_model(\"models/e_coli_core.xml\")\n",
    "cobra_reader = Reader(Engines.CobraModelEngine, cobra_model)\n",
    "\n",
    "read_model(cobra_reader) # output: mewpy.germ.models.cobra_wrapper.CobraModelWrapper"
   ]
  },
  {
   "attachments": {},
   "cell_type": "markdown",
   "metadata": {},
   "source": [
    "#### 2. Read a regulatory model from a CSV file"
   ]
  },
  {
   "cell_type": "code",
   "execution_count": 15,
   "metadata": {},
   "outputs": [
    {
     "data": {
      "text/html": [
       "\n",
       "            <table>\n",
       "                <tr>\n",
       "                    <th><b>Model</b></th>\n",
       "                    <td>e_coli_core_trn</td>\n",
       "                </tr>\n",
       "                <tr>\n",
       "                    <th>Name</th>\n",
       "                    <td>model</td>\n",
       "                </tr>\n",
       "                <tr>\n",
       "                    <th>Types</th>\n",
       "                    <td>regulatory</td>\n",
       "                </tr>\n",
       "                <tr>\n",
       "                    <th>Compartments</th>\n",
       "                    <td></td>\n",
       "                </tr>\n",
       "                <tr>\n",
       "                    <th>Regulatory interactions</th>\n",
       "                    <td>160</td>\n",
       "                </tr>\n",
       "                <tr>\n",
       "                    <th>Targets</th>\n",
       "                    <td>160</td>\n",
       "                </tr>\n",
       "                <tr>\n",
       "                    <th>Regulators</th>\n",
       "                    <td>160</td>\n",
       "                </tr>\n",
       "                <tr>\n",
       "                    <th>Regulatory reactions</th>\n",
       "                    <td>0</td>\n",
       "                </tr>\n",
       "                <tr>\n",
       "                    <th>Regulatory metabolites</th>\n",
       "                    <td>0</td>\n",
       "                </tr>\n",
       "                <tr>\n",
       "                    <th>Environmental stimuli</th>\n",
       "                    <td>76</td>\n",
       "                </tr>\n",
       "            </table>\n",
       "            "
      ],
      "text/plain": [
       "Model e_coli_core_trn - model"
      ]
     },
     "execution_count": 15,
     "metadata": {},
     "output_type": "execute_result"
    }
   ],
   "source": [
    "trn_reader = Reader(Engines.BooleanRegulatoryCSV, \"models/e_coli_core_trn.csv\")\n",
    "\n",
    "read_model(trn_reader) # output: mewpy.germ.models.regulatory.RegulatoryModel"
   ]
  },
  {
   "attachments": {},
   "cell_type": "markdown",
   "metadata": {},
   "source": [
    "#### 3. Read a regulatory model from a CSV and a metabolic model from a SMBL"
   ]
  },
  {
   "cell_type": "code",
   "execution_count": 18,
   "metadata": {},
   "outputs": [
    {
     "data": {
      "text/html": [
       "\n",
       "            <table>\n",
       "                <tr>\n",
       "                    <th><b>Model</b></th>\n",
       "                    <td>e_coli_core</td>\n",
       "                </tr>\n",
       "                <tr>\n",
       "                    <th>Name</th>\n",
       "                    <td>E. coli core model - Orth et al 2010</td>\n",
       "                </tr>\n",
       "                <tr>\n",
       "                    <th>Types</th>\n",
       "                    <td>regulatory, metabolic</td>\n",
       "                </tr>\n",
       "                <tr>\n",
       "                    <th>Compartments</th>\n",
       "                    <td>c, e</td>\n",
       "                </tr>\n",
       "                <tr>\n",
       "                    <th>Reactions</th>\n",
       "                    <td>95</td>\n",
       "                </tr>\n",
       "                <tr>\n",
       "                    <th>Metabolites</th>\n",
       "                    <td>72</td>\n",
       "                </tr>\n",
       "                <tr>\n",
       "                    <th>Genes</th>\n",
       "                    <td>137</td>\n",
       "                </tr>\n",
       "                <tr>\n",
       "                    <th>Exchanges</th>\n",
       "                    <td>20</td>\n",
       "                </tr>\n",
       "                <tr>\n",
       "                    <th>Demands</th>\n",
       "                    <td>0</td>\n",
       "                </tr>\n",
       "                <tr>\n",
       "                    <th>Sinks</th>\n",
       "                    <td>0</td>\n",
       "                </tr>\n",
       "                <tr>\n",
       "                    <th>Objective</th>\n",
       "                    <td>Biomass_Ecoli_core</td>\n",
       "                </tr>\n",
       "                <tr>\n",
       "                    <th>Regulatory interactions</th>\n",
       "                    <td>160</td>\n",
       "                </tr>\n",
       "                <tr>\n",
       "                    <th>Targets</th>\n",
       "                    <td>160</td>\n",
       "                </tr>\n",
       "                <tr>\n",
       "                    <th>Regulators</th>\n",
       "                    <td>160</td>\n",
       "                </tr>\n",
       "                <tr>\n",
       "                    <th>Regulatory reactions</th>\n",
       "                    <td>0</td>\n",
       "                </tr>\n",
       "                <tr>\n",
       "                    <th>Regulatory metabolites</th>\n",
       "                    <td>0</td>\n",
       "                </tr>\n",
       "                <tr>\n",
       "                    <th>Environmental stimuli</th>\n",
       "                    <td>76</td>\n",
       "                </tr>\n",
       "            </table>\n",
       "            "
      ],
      "text/plain": [
       "Model e_coli_core - E. coli core model - Orth et al 2010"
      ]
     },
     "execution_count": 18,
     "metadata": {},
     "output_type": "execute_result"
    }
   ],
   "source": [
    "trn_reader = Reader(Engines.BooleanRegulatoryCSV, \"models/e_coli_core_trn.csv\")\n",
    "gem_reader = Reader(Engines.MetabolicSBML, \"models/e_coli_core.xml\")\n",
    "\n",
    "read_model(trn_reader, gem_reader) # output: mewpy.germ.models.model.RegulatoryMewpy_MetabolicModel"
   ]
  },
  {
   "attachments": {},
   "cell_type": "markdown",
   "metadata": {},
   "source": [
    "#### GERM/analysis\n",
    "##### Module para permitir correr simulações e análises aos GERM models"
   ]
  },
  {
   "cell_type": "code",
   "execution_count": 19,
   "metadata": {},
   "outputs": [
    {
     "name": "stdout",
     "output_type": "stream",
     "text": [
      "\u001b[01;34m../src/mewpy/germ/analysis\u001b[00m\n",
      "├── analysis_utils.py\n",
      "├── coregflux.py\n",
      "├── fba.py\n",
      "├── integrated_analysis.py\n",
      "├── metabolic_analysis.py\n",
      "├── pfba.py\n",
      "├── prom.py\n",
      "├── regulatory_analysis.py\n",
      "├── rfba.py\n",
      "└── srfba.py\n",
      "\n",
      "0 directories, 10 files\n"
     ]
    }
   ],
   "source": [
    "!tree ../src/mewpy/germ/analysis -L 1 -I \"__*\""
   ]
  },
  {
   "attachments": {},
   "cell_type": "markdown",
   "metadata": {},
   "source": [
    "| File                    | Methods                                      | Scope                |\n",
    "|-------------------------|----------------------------------------------|----------------------|\n",
    "| fba.py                  | FBA                                          | Metabolic            |\n",
    "| pfba.py                 | pFBA                                         | Metabolic            |\n",
    "| metabolic_analysis.py   | FVA, single gene deletion, single reaction deletion  | Metabolic            |\n",
    "| rfba.py                 | rFBA                                         | Regulatory-Metabolic |\n",
    "| srfba.py                | SR-FBA                                       | Regulatory-Metabolic |\n",
    "| prom.py                 | PROM                                         | Regulatory-Metabolic |\n",
    "| coregflux.py            | CoRegFlux                                    | Regulatory-Metabolic |\n",
    "| integrated_analysis.py  | iFVA, integrated single gene deletion, integrated single reaction deletion  | Regulatory-Metabolic |\n",
    "| regulatory_analysis.py  | Regulatory truth table                       | Regulatory           |\n"
   ]
  },
  {
   "attachments": {},
   "cell_type": "markdown",
   "metadata": {},
   "source": [
    "#### Metabolic Methods behaviour\n",
    "<img src=\"images/met_method_flowchart.png\" alt=\"Metabolic Methods behaviour\" width=\"600\">"
   ]
  },
  {
   "attachments": {},
   "cell_type": "markdown",
   "metadata": {},
   "source": [
    "#### Metabolic methods examples"
   ]
  },
  {
   "cell_type": "code",
   "execution_count": 20,
   "metadata": {},
   "outputs": [],
   "source": [
    "cobra_model = read_sbml_model(\"models/e_coli_core.xml\")\n",
    "cobra_reader = Reader(Engines.CobraModelEngine, cobra_model)\n",
    "\n",
    "met_model_cobra = read_model(cobra_reader) # mewpy.germ.models.cobra_wrapper.CobraModelWrapper"
   ]
  },
  {
   "cell_type": "code",
   "execution_count": 21,
   "metadata": {},
   "outputs": [],
   "source": [
    "gem_reader = Reader(Engines.MetabolicSBML, \"models/e_coli_core.xml\")\n",
    "\n",
    "met_model_mewpy = read_model(gem_reader) # mewpy.germ.models.model.Mewpy_MetabolicModel"
   ]
  },
  {
   "cell_type": "code",
   "execution_count": 22,
   "metadata": {},
   "outputs": [],
   "source": [
    "from mewpy.germ.analysis.fba import FBA"
   ]
  },
  {
   "cell_type": "code",
   "execution_count": 23,
   "metadata": {},
   "outputs": [
    {
     "data": {
      "text/html": [
       "\n",
       "        <table>\n",
       "            <tr>\n",
       "                <td>Method</td>\n",
       "                <td>FBA</td>\n",
       "            </tr>\n",
       "            <tr>\n",
       "                <td>Model</td>\n",
       "                <td>Model e_coli_core - E. coli core model - Orth et al 2010</td>\n",
       "            </tr>\n",
       "            <tr>\n",
       "                <th>Objective</th>\n",
       "                <td>Biomass_Ecoli_core</td>\n",
       "            </tr>\n",
       "            <tr>\n",
       "                <th>Objective value</th>\n",
       "                <td>0.8739215069684302</td>\n",
       "            </tr>\n",
       "            <tr>\n",
       "                <th>Status</th>\n",
       "                <td>optimal</td>\n",
       "            </tr>\n",
       "        </table>\n",
       "        "
      ],
      "text/plain": [
       "FBA Solution\n",
       " Objective value: 0.8739215069684302\n",
       " Status: optimal"
      ]
     },
     "execution_count": 23,
     "metadata": {},
     "output_type": "execute_result"
    }
   ],
   "source": [
    "# Como o cobrapy implementa o método metabólico FBA, Vai ser essa a implementação usada\n",
    "\n",
    "FBA(met_model_cobra).build().optimize()"
   ]
  },
  {
   "cell_type": "code",
   "execution_count": 24,
   "metadata": {},
   "outputs": [
    {
     "data": {
      "text/html": [
       "\n",
       "        <table>\n",
       "            <tr>\n",
       "                <td>Method</td>\n",
       "                <td>FBA</td>\n",
       "            </tr>\n",
       "            <tr>\n",
       "                <td>Model</td>\n",
       "                <td>Model e_coli_core - E. coli core model - Orth et al 2010</td>\n",
       "            </tr>\n",
       "            <tr>\n",
       "                <th>Objective</th>\n",
       "                <td>Biomass_Ecoli_core</td>\n",
       "            </tr>\n",
       "            <tr>\n",
       "                <th>Objective value</th>\n",
       "                <td>0.8739215069684303</td>\n",
       "            </tr>\n",
       "            <tr>\n",
       "                <th>Status</th>\n",
       "                <td>optimal</td>\n",
       "            </tr>\n",
       "        </table>\n",
       "        "
      ],
      "text/plain": [
       "FBA Solution\n",
       " Objective value: 0.8739215069684303\n",
       " Status: optimal"
      ]
     },
     "execution_count": 24,
     "metadata": {},
     "output_type": "execute_result"
    }
   ],
   "source": [
    "# Como os modelos mewpy_metabolic não têm simulator, o método has_external_method dá sempre falso,\n",
    "# por isso para resolver um modelo metbólico como o FBA, è utilizado o solver do mewpy\n",
    "\n",
    "FBA(met_model_mewpy).build().optimize()"
   ]
  }
 ],
 "metadata": {
  "kernelspec": {
   "display_name": "Python 3",
   "language": "python",
   "name": "python3"
  },
  "language_info": {
   "codemirror_mode": {
    "name": "ipython",
    "version": 3
   },
   "file_extension": ".py",
   "mimetype": "text/x-python",
   "name": "python",
   "nbconvert_exporter": "python",
   "pygments_lexer": "ipython3",
   "version": "3.8.10"
  },
  "orig_nbformat": 4,
  "vscode": {
   "interpreter": {
    "hash": "31f2aee4e71d21fbe5cf8b01ff0e069b9275f58929596ceb00d14d90e3e16cd6"
   }
  }
 },
 "nbformat": 4,
 "nbformat_minor": 2
}
