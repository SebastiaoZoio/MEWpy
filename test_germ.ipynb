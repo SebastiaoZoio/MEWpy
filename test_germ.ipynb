{
 "cells": [
  {
   "cell_type": "code",
   "execution_count": 1,
   "metadata": {},
   "outputs": [
    {
     "name": "stderr",
     "output_type": "stream",
     "text": [
      "<frozen importlib._bootstrap>:219: RuntimeWarning: scipy._lib.messagestream.MessageStream size changed, may indicate binary incompatibility. Expected 56 from C header, got 64 from PyObject\n"
     ]
    }
   ],
   "source": [
    "# imports\n",
    "\n",
    "from mewpy.germ import  FBA, SRFBA, RFBA, pFBA\n",
    "from mewpy.io import read_model, Reader, Engines\n",
    "from cobra.io import read_sbml_model\n"
   ]
  },
  {
   "cell_type": "code",
   "execution_count": 2,
   "metadata": {},
   "outputs": [],
   "source": [
    "cobra_model = read_sbml_model(\"/home/sebastiao_zoio/Documents/test_mewpy/mewpy/examples/models/germ/e_coli_core.xml\")\n",
    "\n",
    "cobra_reader = Reader(Engines.CobraPyObject, cobra_model)\n",
    "\n",
    "#original_cobra_reader = Reader(Engines.CobraModel, cobra_model)\n",
    "\n",
    "gem_reader = Reader(Engines.MetabolicSBML, \"/home/sebastiao_zoio/Documents/test_mewpy/mewpy/examples/models/germ/e_coli_core.xml\")\n",
    "\n",
    "trn_model = \"/home/sebastiao_zoio/Documents/test_mewpy/mewpy/examples/models/germ/e_coli_core_trn.csv\"\n",
    "\n",
    "trn_reader = Reader(Engines.BooleanRegulatoryCSV,\n",
    "                    trn_model,\n",
    "                    sep=',',\n",
    "                    id_col=0,\n",
    "                    rule_col=2,\n",
    "                    aliases_cols=[1],\n",
    "                    header=0)\n",
    "    \n",
    "original_germ_model = read_model(gem_reader, trn_reader)\n",
    "\n",
    "#test_germ_model = read_model(original_cobra_reader, trn_reader)\n",
    "\n",
    "new_germ_model = read_model(cobra_reader, trn_reader)\n",
    "\n",
    "mewpy_model = read_model(gem_reader)\n",
    "\n",
    "met_model = read_model(gem_reader)\n",
    "met_wrap_model = read_model(cobra_reader)\n"
   ]
  },
  {
   "cell_type": "code",
   "execution_count": 3,
   "metadata": {},
   "outputs": [],
   "source": [
    "from mewpy.simulation.cobra import Simulation\n",
    "from mewpy.io.engines.engines_utils import build_symbolic\n"
   ]
  },
  {
   "cell_type": "code",
   "execution_count": 4,
   "metadata": {},
   "outputs": [],
   "source": [
    "simulator = Simulation(cobra_model)\n"
   ]
  },
  {
   "cell_type": "code",
   "execution_count": 5,
   "metadata": {},
   "outputs": [],
   "source": [
    "from mewpy.solvers import Solution"
   ]
  },
  {
   "cell_type": "code",
   "execution_count": 11,
   "metadata": {},
   "outputs": [],
   "source": [
    "from mewpy.germ.models.cobra_wrapper import get_status"
   ]
  },
  {
   "cell_type": "code",
   "execution_count": 9,
   "metadata": {},
   "outputs": [
    {
     "data": {
      "text/html": [
       "\n",
       "        <table>\n",
       "            <tr>\n",
       "                <td>Method</td>\n",
       "                <td>FBA</td>\n",
       "            </tr>\n",
       "            <tr>\n",
       "                <td>Model</td>\n",
       "                <td>Model e_coli_core_trn - E. coli core model - Orth et al 2010</td>\n",
       "            </tr>\n",
       "            <tr>\n",
       "                <th>Objective</th>\n",
       "                <td>Biomass_Ecoli_core</td>\n",
       "            </tr>\n",
       "            <tr>\n",
       "                <th>Objective value</th>\n",
       "                <td>0.8739215069684302</td>\n",
       "            </tr>\n",
       "            <tr>\n",
       "                <th>Status</th>\n",
       "                <td>optimal</td>\n",
       "            </tr>\n",
       "        </table>\n",
       "        "
      ],
      "text/plain": [
       "FBA Solution\n",
       " Objective value: 0.8739215069684302\n",
       " Status: optimal"
      ]
     },
     "execution_count": 9,
     "metadata": {},
     "output_type": "execute_result"
    }
   ],
   "source": [
    "sol = pFBA(new_germ_model).build().optimize()\n",
    "sol"
   ]
  },
  {
   "cell_type": "code",
   "execution_count": null,
   "metadata": {},
   "outputs": [],
   "source": [
    "sol2 = pFBA(original_germ_model).build().optimize()\n",
    "sol2"
   ]
  }
 ],
 "metadata": {
  "kernelspec": {
   "display_name": "Python 3",
   "language": "python",
   "name": "python3"
  },
  "language_info": {
   "codemirror_mode": {
    "name": "ipython",
    "version": 3
   },
   "file_extension": ".py",
   "mimetype": "text/x-python",
   "name": "python",
   "nbconvert_exporter": "python",
   "pygments_lexer": "ipython3",
   "version": "3.8.10"
  },
  "orig_nbformat": 4,
  "vscode": {
   "interpreter": {
    "hash": "31f2aee4e71d21fbe5cf8b01ff0e069b9275f58929596ceb00d14d90e3e16cd6"
   }
  }
 },
 "nbformat": 4,
 "nbformat_minor": 2
}
