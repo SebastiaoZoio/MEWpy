{
 "cells": [
  {
   "cell_type": "code",
   "execution_count": 1,
   "metadata": {},
   "outputs": [
    {
     "name": "stderr",
     "output_type": "stream",
     "text": [
      "<frozen importlib._bootstrap>:219: RuntimeWarning: scipy._lib.messagestream.MessageStream size changed, may indicate binary incompatibility. Expected 56 from C header, got 64 from PyObject\n"
     ]
    }
   ],
   "source": [
    "\n",
    "# imports\n",
    "from mewpy.germ import  FBA, single_gene_deletion, SRFBA, RFBA, isingle_gene_deletion, slim_pfba, fva, slim_fba\n",
    "from mewpy.io import read_model, Reader, Engines\n",
    "from cobra.io import read_sbml_model\n",
    "from reframed import load_cbmodel\n"
   ]
  },
  {
   "cell_type": "code",
   "execution_count": 4,
   "metadata": {},
   "outputs": [],
   "source": [
    "cobra_model = read_sbml_model(\"/home/sebastiao_zoio/Documents/test_mewpy/mewpy/examples/models/germ/e_coli_core.xml\")\n",
    "reframed_model = load_cbmodel(\"/home/sebastiao_zoio/Documents/test_mewpy/mewpy/examples/models/germ/e_coli_core.xml\", use_infinity=False)\n",
    "\n",
    "\n",
    "cobra_reader = Reader(Engines.CobraModelEngine, cobra_model)\n",
    "reframed_reader = Reader(Engines.ReframedModel, reframed_model)\n",
    "\n",
    "\n",
    "gem_reader = Reader(Engines.MetabolicSBML, \"/home/sebastiao_zoio/Documents/test_mewpy/mewpy/examples/models/germ/e_coli_core.xml\")\n",
    "\n",
    "trn_model = \"/home/sebastiao_zoio/Documents/test_mewpy/mewpy/examples/models/germ/e_coli_core_trn.csv\"\n",
    "\n",
    "trn_reader = Reader(Engines.BooleanRegulatoryCSV,\n",
    "                    trn_model,\n",
    "                    sep=',',\n",
    "                    id_col=0,\n",
    "                    rule_col=2,\n",
    "                    aliases_cols=[1],\n",
    "                    header=0)\n",
    "\n",
    "germ_model = read_model(trn_reader,cobra_reader)\n",
    "\n",
    "#germ_model = read_model(reframed_reader, trn_reader)\n",
    "\n",
    "old_gem_model = read_model(gem_reader, trn_reader)"
   ]
  },
  {
   "cell_type": "code",
   "execution_count": 34,
   "metadata": {},
   "outputs": [],
   "source": [
    "df = single_gene_deletion(germ_model)\n"
   ]
  },
  {
   "cell_type": "code",
   "execution_count": 35,
   "metadata": {},
   "outputs": [
    {
     "name": "stdout",
     "output_type": "stream",
     "text": [
      "       growth   status\n",
      "ids                   \n",
      "NaN  0.873922  Optimal\n",
      "NaN  0.873922  Optimal\n",
      "NaN  0.873922  Optimal\n",
      "NaN  0.796696  Optimal\n",
      "NaN  0.870745  Optimal\n",
      "..        ...      ...\n",
      "NaN  0.873922  Optimal\n",
      "NaN  0.873922  Optimal\n",
      "NaN  0.873922  Optimal\n",
      "NaN  0.873922  Optimal\n",
      "NaN  0.873922  Optimal\n",
      "\n",
      "[137 rows x 2 columns]\n"
     ]
    }
   ],
   "source": [
    "# Extract IDs and set them as the index\n",
    "df['ids'] = df['ids'].str.strip('{}')  # Remove curly braces\n",
    "df.set_index('ids', inplace=True)\n",
    "\n",
    "# Rename columns to match desired format\n",
    "df.columns = ['growth', 'status']\n",
    "\n",
    "# Capitalize the 'status' column\n",
    "df['status'] = df['status'].str.capitalize()\n",
    "\n",
    "# Print the transformed DataFrame\n",
    "print(df)"
   ]
  },
  {
   "cell_type": "code",
   "execution_count": 6,
   "metadata": {},
   "outputs": [
    {
     "data": {
      "text/html": [
       "<div>\n",
       "<style scoped>\n",
       "    .dataframe tbody tr th:only-of-type {\n",
       "        vertical-align: middle;\n",
       "    }\n",
       "\n",
       "    .dataframe tbody tr th {\n",
       "        vertical-align: top;\n",
       "    }\n",
       "\n",
       "    .dataframe thead th {\n",
       "        text-align: right;\n",
       "    }\n",
       "</style>\n",
       "<table border=\"1\" class=\"dataframe\">\n",
       "  <thead>\n",
       "    <tr style=\"text-align: right;\">\n",
       "      <th></th>\n",
       "      <th>growth</th>\n",
       "      <th>status</th>\n",
       "    </tr>\n",
       "  </thead>\n",
       "  <tbody>\n",
       "    <tr>\n",
       "      <th>b0351</th>\n",
       "      <td>0.873922</td>\n",
       "      <td>Optimal</td>\n",
       "    </tr>\n",
       "    <tr>\n",
       "      <th>b1241</th>\n",
       "      <td>0.873922</td>\n",
       "      <td>Optimal</td>\n",
       "    </tr>\n",
       "    <tr>\n",
       "      <th>s0001</th>\n",
       "      <td>0.211141</td>\n",
       "      <td>Optimal</td>\n",
       "    </tr>\n",
       "    <tr>\n",
       "      <th>b2296</th>\n",
       "      <td>0.873922</td>\n",
       "      <td>Optimal</td>\n",
       "    </tr>\n",
       "    <tr>\n",
       "      <th>b3115</th>\n",
       "      <td>0.873922</td>\n",
       "      <td>Optimal</td>\n",
       "    </tr>\n",
       "    <tr>\n",
       "      <th>...</th>\n",
       "      <td>...</td>\n",
       "      <td>...</td>\n",
       "    </tr>\n",
       "    <tr>\n",
       "      <th>b2464</th>\n",
       "      <td>0.873922</td>\n",
       "      <td>Optimal</td>\n",
       "    </tr>\n",
       "    <tr>\n",
       "      <th>b0008</th>\n",
       "      <td>0.873922</td>\n",
       "      <td>Optimal</td>\n",
       "    </tr>\n",
       "    <tr>\n",
       "      <th>b2935</th>\n",
       "      <td>0.873922</td>\n",
       "      <td>Optimal</td>\n",
       "    </tr>\n",
       "    <tr>\n",
       "      <th>b2465</th>\n",
       "      <td>0.873922</td>\n",
       "      <td>Optimal</td>\n",
       "    </tr>\n",
       "    <tr>\n",
       "      <th>b3919</th>\n",
       "      <td>0.704037</td>\n",
       "      <td>Optimal</td>\n",
       "    </tr>\n",
       "  </tbody>\n",
       "</table>\n",
       "<p>137 rows × 2 columns</p>\n",
       "</div>"
      ],
      "text/plain": [
       "         growth   status\n",
       "b0351  0.873922  Optimal\n",
       "b1241  0.873922  Optimal\n",
       "s0001  0.211141  Optimal\n",
       "b2296  0.873922  Optimal\n",
       "b3115  0.873922  Optimal\n",
       "...         ...      ...\n",
       "b2464  0.873922  Optimal\n",
       "b0008  0.873922  Optimal\n",
       "b2935  0.873922  Optimal\n",
       "b2465  0.873922  Optimal\n",
       "b3919  0.704037  Optimal\n",
       "\n",
       "[137 rows x 2 columns]"
      ]
     },
     "execution_count": 6,
     "metadata": {},
     "output_type": "execute_result"
    }
   ],
   "source": [
    "single_gene_deletion(old_gem_model)"
   ]
  },
  {
   "cell_type": "code",
   "execution_count": 6,
   "metadata": {},
   "outputs": [
    {
     "data": {
      "text/html": [
       "\n",
       "        <table>\n",
       "            <tr>\n",
       "                <td>Method</td>\n",
       "                <td>SRFBA</td>\n",
       "            </tr>\n",
       "            <tr>\n",
       "                <td>Model</td>\n",
       "                <td>Model e_coli_core_trn - E. coli core model - Orth et al 2010</td>\n",
       "            </tr>\n",
       "            <tr>\n",
       "                <th>Objective</th>\n",
       "                <td>Biomass_Ecoli_core</td>\n",
       "            </tr>\n",
       "            <tr>\n",
       "                <th>Objective value</th>\n",
       "                <td>0.8739215069684829</td>\n",
       "            </tr>\n",
       "            <tr>\n",
       "                <th>Status</th>\n",
       "                <td>optimal</td>\n",
       "            </tr>\n",
       "        </table>\n",
       "        "
      ],
      "text/plain": [
       "SRFBA Solution\n",
       " Objective value: 0.8739215069684829\n",
       " Status: optimal"
      ]
     },
     "execution_count": 6,
     "metadata": {},
     "output_type": "execute_result"
    }
   ],
   "source": [
    "SRFBA(old_gem_model).build().optimize( constraints={'ACONTa': (0.0, 0.0)})"
   ]
  },
  {
   "cell_type": "code",
   "execution_count": 39,
   "metadata": {},
   "outputs": [
    {
     "name": "stdout",
     "output_type": "stream",
     "text": [
      "('ACONTa', 0.0)\n",
      "('ACONTb', 0.0)\n",
      "('AKGDH', 0.8583074080226883)\n",
      "('ATPM', 0.9166474637510486)\n",
      "('ATPS4r', 0.3742298749331098)\n",
      "('Biomass_Ecoli_core', 0.0)\n",
      "('CO2t', 0.4616696141601343)\n",
      "('CS', 0.0)\n",
      "('CYTBD', 0.2116629497353106)\n",
      "('ENO', 0.0)\n",
      "('EX_co2_e', 0.4616696141601343)\n",
      "('EX_glc__D_e', 0.0)\n",
      "('EX_h_e', 1.734723475976807e-15)\n",
      "('EX_h2o_e', 0.383515449296783)\n",
      "('EX_nh4_e', 0.0)\n",
      "('EX_o2_e', 0.2116629497353106)\n",
      "('EX_pi_e', -1.1102230246251565e-15)\n",
      "('FBA', 0.7040369478590237)\n",
      "('FRUpts2', 0.8739215069684302)\n",
      "('FUM', 0.8142975075325303)\n",
      "('G6PDH2r', 0.8638133095040007)\n",
      "('GAPD', 0.0)\n",
      "('GLCpts', 0.0)\n",
      "('GLNS', 0.0)\n",
      "('GLUDy', 0.8513885233462081)\n",
      "('GND', 0.8638133095040007)\n",
      "('H2Ot', 0.383515449296783)\n",
      "('ICDHyr', 0.0)\n",
      "('MDH', 0.8258192905969886)\n",
      "('NADH16', 0.2116629497353106)\n",
      "('NH4t', 0.0)\n",
      "('O2t', 0.2116629497353106)\n",
      "('PDH', 0.7966959254309567)\n",
      "('PFK', 0.7040369478590237)\n",
      "('PGI', 0.863159552208418)\n",
      "('PGK', 0.0)\n",
      "('PGL', 0.8638133095040007)\n",
      "('PGM', 0.0)\n",
      "('PIt2r', -1.1102230246251565e-15)\n",
      "('PPC', 0.8707448062160248)\n",
      "('PYK', 0.8649260179498682)\n",
      "('RPE', 0.8657155608953031)\n",
      "('RPI', 0.0)\n",
      "('SUCDi', 0.8142975075325303)\n",
      "('SUCOAS', 0.8583074080226883)\n",
      "('TALA', 0.8647591548314765)\n",
      "('TKT1', 0.8647591548314765)\n",
      "('TKT2', 0.8666740848328233)\n",
      "('TPI', 0.7040369478590237)\n"
     ]
    }
   ],
   "source": [
    "opt_val = slim_fba(old_gem_model)\n",
    "\n",
    "for rxn in old_gem_model.yield_reactions():\n",
    "    constraint = {rxn.id: (0.0, 0.0)}\n",
    "    c_opt_val = slim_fba(old_gem_model, constraints=constraint)\n",
    "    if c_opt_val != opt_val:\n",
    "        print((rxn.id, c_opt_val))"
   ]
  },
  {
   "cell_type": "code",
   "execution_count": 43,
   "metadata": {},
   "outputs": [
    {
     "data": {
      "text/plain": [
       "0.0"
      ]
     },
     "execution_count": 43,
     "metadata": {},
     "output_type": "execute_result"
    }
   ],
   "source": [
    "slim_fba(old_gem_model, constraints={'ACONTa': (0.0, 0.0)})"
   ]
  },
  {
   "cell_type": "code",
   "execution_count": 47,
   "metadata": {},
   "outputs": [
    {
     "data": {
      "text/plain": [
       "{'acald_c': <mewpy.germ.lp.linear_containers.ConstraintContainer at 0x7f34f0b7e670>,\n",
       " 'coa_c': <mewpy.germ.lp.linear_containers.ConstraintContainer at 0x7f34f0b7ea90>,\n",
       " 'nad_c': <mewpy.germ.lp.linear_containers.ConstraintContainer at 0x7f34f2665f40>,\n",
       " 'accoa_c': <mewpy.germ.lp.linear_containers.ConstraintContainer at 0x7f34f2665f10>,\n",
       " 'h_c': <mewpy.germ.lp.linear_containers.ConstraintContainer at 0x7f34f2665160>,\n",
       " 'nadh_c': <mewpy.germ.lp.linear_containers.ConstraintContainer at 0x7f34f2665eb0>,\n",
       " 'acald_e': <mewpy.germ.lp.linear_containers.ConstraintContainer at 0x7f34f2665d00>,\n",
       " 'ac_c': <mewpy.germ.lp.linear_containers.ConstraintContainer at 0x7f34f2665700>,\n",
       " 'atp_c': <mewpy.germ.lp.linear_containers.ConstraintContainer at 0x7f34f26655b0>,\n",
       " 'actp_c': <mewpy.germ.lp.linear_containers.ConstraintContainer at 0x7f34f2665b80>,\n",
       " 'adp_c': <mewpy.germ.lp.linear_containers.ConstraintContainer at 0x7f34f2665220>,\n",
       " 'cit_c': <mewpy.germ.lp.linear_containers.ConstraintContainer at 0x7f34f2665a30>,\n",
       " 'acon_C_c': <mewpy.germ.lp.linear_containers.ConstraintContainer at 0x7f34f2665820>,\n",
       " 'h2o_c': <mewpy.germ.lp.linear_containers.ConstraintContainer at 0x7f34f2665d30>,\n",
       " 'icit_c': <mewpy.germ.lp.linear_containers.ConstraintContainer at 0x7f34f26650d0>,\n",
       " 'ac_e': <mewpy.germ.lp.linear_containers.ConstraintContainer at 0x7f34f2665730>,\n",
       " 'h_e': <mewpy.germ.lp.linear_containers.ConstraintContainer at 0x7f34f2665a90>,\n",
       " 'amp_c': <mewpy.germ.lp.linear_containers.ConstraintContainer at 0x7f34f2665dc0>,\n",
       " 'akg_c': <mewpy.germ.lp.linear_containers.ConstraintContainer at 0x7f34f2665280>,\n",
       " 'co2_c': <mewpy.germ.lp.linear_containers.ConstraintContainer at 0x7f34f2665fa0>,\n",
       " 'succoa_c': <mewpy.germ.lp.linear_containers.ConstraintContainer at 0x7f34f2665460>,\n",
       " 'akg_e': <mewpy.germ.lp.linear_containers.ConstraintContainer at 0x7f34f2665670>,\n",
       " 'etoh_c': <mewpy.germ.lp.linear_containers.ConstraintContainer at 0x7f34f2665760>,\n",
       " 'pi_c': <mewpy.germ.lp.linear_containers.ConstraintContainer at 0x7f34f2665190>,\n",
       " '3pg_c': <mewpy.germ.lp.linear_containers.ConstraintContainer at 0x7f34f2665580>,\n",
       " 'e4p_c': <mewpy.germ.lp.linear_containers.ConstraintContainer at 0x7f34f26658b0>,\n",
       " 'f6p_c': <mewpy.germ.lp.linear_containers.ConstraintContainer at 0x7f34f2665d90>,\n",
       " 'g3p_c': <mewpy.germ.lp.linear_containers.ConstraintContainer at 0x7f34f2665af0>,\n",
       " 'g6p_c': <mewpy.germ.lp.linear_containers.ConstraintContainer at 0x7f34f2665940>,\n",
       " 'gln__L_c': <mewpy.germ.lp.linear_containers.ConstraintContainer at 0x7f34f2665970>,\n",
       " 'glu__L_c': <mewpy.germ.lp.linear_containers.ConstraintContainer at 0x7f34f2665bb0>,\n",
       " 'nadph_c': <mewpy.germ.lp.linear_containers.ConstraintContainer at 0x7f34f26656a0>,\n",
       " 'oaa_c': <mewpy.germ.lp.linear_containers.ConstraintContainer at 0x7f34f2665c70>,\n",
       " 'pep_c': <mewpy.germ.lp.linear_containers.ConstraintContainer at 0x7f34f26654f0>,\n",
       " 'pyr_c': <mewpy.germ.lp.linear_containers.ConstraintContainer at 0x7f34f26650a0>,\n",
       " 'r5p_c': <mewpy.germ.lp.linear_containers.ConstraintContainer at 0x7f34f26659d0>,\n",
       " 'nadp_c': <mewpy.germ.lp.linear_containers.ConstraintContainer at 0x7f34f2665040>,\n",
       " 'co2_e': <mewpy.germ.lp.linear_containers.ConstraintContainer at 0x7f34f2665d60>,\n",
       " 'o2_c': <mewpy.germ.lp.linear_containers.ConstraintContainer at 0x7f34f2665490>,\n",
       " 'q8h2_c': <mewpy.germ.lp.linear_containers.ConstraintContainer at 0x7f34f2665be0>,\n",
       " 'q8_c': <mewpy.germ.lp.linear_containers.ConstraintContainer at 0x7f34f2665cd0>,\n",
       " 'lac__D_e': <mewpy.germ.lp.linear_containers.ConstraintContainer at 0x7f34f26652e0>,\n",
       " 'lac__D_c': <mewpy.germ.lp.linear_containers.ConstraintContainer at 0x7f34f2665550>,\n",
       " '2pg_c': <mewpy.germ.lp.linear_containers.ConstraintContainer at 0x7f34f2665910>,\n",
       " 'etoh_e': <mewpy.germ.lp.linear_containers.ConstraintContainer at 0x7f34f2665520>,\n",
       " 'for_e': <mewpy.germ.lp.linear_containers.ConstraintContainer at 0x7f34f2665e50>,\n",
       " 'fru_e': <mewpy.germ.lp.linear_containers.ConstraintContainer at 0x7f34f2665130>,\n",
       " 'fum_e': <mewpy.germ.lp.linear_containers.ConstraintContainer at 0x7f34f2665100>,\n",
       " 'glc__D_e': <mewpy.germ.lp.linear_containers.ConstraintContainer at 0x7f34f26651c0>,\n",
       " 'gln__L_e': <mewpy.germ.lp.linear_containers.ConstraintContainer at 0x7f34f2665c40>,\n",
       " 'glu__L_e': <mewpy.germ.lp.linear_containers.ConstraintContainer at 0x7f34f2665ca0>,\n",
       " 'h2o_e': <mewpy.germ.lp.linear_containers.ConstraintContainer at 0x7f34f26653d0>,\n",
       " 'mal__L_e': <mewpy.germ.lp.linear_containers.ConstraintContainer at 0x7f34f2665340>,\n",
       " 'nh4_e': <mewpy.germ.lp.linear_containers.ConstraintContainer at 0x7f34f2665370>,\n",
       " 'o2_e': <mewpy.germ.lp.linear_containers.ConstraintContainer at 0x7f34f2665e80>,\n",
       " 'pi_e': <mewpy.germ.lp.linear_containers.ConstraintContainer at 0x7f34f26656d0>,\n",
       " 'pyr_e': <mewpy.germ.lp.linear_containers.ConstraintContainer at 0x7f34f2665880>,\n",
       " 'succ_e': <mewpy.germ.lp.linear_containers.ConstraintContainer at 0x7f34f2665850>,\n",
       " 'fdp_c': <mewpy.germ.lp.linear_containers.ConstraintContainer at 0x7f34f2665a00>,\n",
       " 'dhap_c': <mewpy.germ.lp.linear_containers.ConstraintContainer at 0x7f34f084f970>,\n",
       " 'for_c': <mewpy.germ.lp.linear_containers.ConstraintContainer at 0x7f34f084f040>,\n",
       " 'fum_c': <mewpy.germ.lp.linear_containers.ConstraintContainer at 0x7f34f084fc10>,\n",
       " 'succ_c': <mewpy.germ.lp.linear_containers.ConstraintContainer at 0x7f34f084fdc0>,\n",
       " 'mal__L_c': <mewpy.germ.lp.linear_containers.ConstraintContainer at 0x7f34f084f8b0>,\n",
       " '6pgl_c': <mewpy.germ.lp.linear_containers.ConstraintContainer at 0x7f34f084fe80>,\n",
       " '13dpg_c': <mewpy.germ.lp.linear_containers.ConstraintContainer at 0x7f34f084f4f0>,\n",
       " 'nh4_c': <mewpy.germ.lp.linear_containers.ConstraintContainer at 0x7f34f084f3d0>,\n",
       " '6pgc_c': <mewpy.germ.lp.linear_containers.ConstraintContainer at 0x7f34f084f370>,\n",
       " 'ru5p__D_c': <mewpy.germ.lp.linear_containers.ConstraintContainer at 0x7f34f084fd90>,\n",
       " 'glx_c': <mewpy.germ.lp.linear_containers.ConstraintContainer at 0x7f34f084fd00>,\n",
       " 'xu5p__D_c': <mewpy.germ.lp.linear_containers.ConstraintContainer at 0x7f34f084f190>,\n",
       " 's7p_c': <mewpy.germ.lp.linear_containers.ConstraintContainer at 0x7f34f084f610>}"
      ]
     },
     "execution_count": 47,
     "metadata": {},
     "output_type": "execute_result"
    }
   ],
   "source": [
    "cnstr = {'ACONTa': (0.0, 0.0)}\n",
    "\n",
    "fba = FBA(old_gem_model).build()\n",
    "\n",
    "fba.constraints"
   ]
  },
  {
   "cell_type": "code",
   "execution_count": 14,
   "metadata": {},
   "outputs": [
    {
     "data": {
      "text/html": [
       "<div>\n",
       "<style scoped>\n",
       "    .dataframe tbody tr th:only-of-type {\n",
       "        vertical-align: middle;\n",
       "    }\n",
       "\n",
       "    .dataframe tbody tr th {\n",
       "        vertical-align: top;\n",
       "    }\n",
       "\n",
       "    .dataframe thead th {\n",
       "        text-align: right;\n",
       "    }\n",
       "</style>\n",
       "<table border=\"1\" class=\"dataframe\">\n",
       "  <thead>\n",
       "    <tr style=\"text-align: right;\">\n",
       "      <th></th>\n",
       "      <th>growth</th>\n",
       "      <th>status</th>\n",
       "    </tr>\n",
       "  </thead>\n",
       "  <tbody>\n",
       "    <tr>\n",
       "      <th>b2415</th>\n",
       "      <td>0.0</td>\n",
       "      <td>Infeasible</td>\n",
       "    </tr>\n",
       "    <tr>\n",
       "      <th>b2416</th>\n",
       "      <td>0.0</td>\n",
       "      <td>Infeasible</td>\n",
       "    </tr>\n",
       "  </tbody>\n",
       "</table>\n",
       "</div>"
      ],
      "text/plain": [
       "       growth      status\n",
       "b2415     0.0  Infeasible\n",
       "b2416     0.0  Infeasible"
      ]
     },
     "execution_count": 14,
     "metadata": {},
     "output_type": "execute_result"
    }
   ],
   "source": [
    "df = single_gene_deletion(old_gem_model)\n",
    "filtered_df = df.loc[df['status'] == 'Infeasible']\n",
    "filtered_df"
   ]
  },
  {
   "cell_type": "code",
   "execution_count": 17,
   "metadata": {},
   "outputs": [
    {
     "data": {
      "text/html": [
       "\n",
       "            <table>\n",
       "                <tr><th>Identifier</th><td>b2416</td></tr><tr><th>Name</th><td>b2416</td></tr><tr><th>Aliases</th><td>ptsI, b2416</td></tr><tr><th>Model</th><td>e_coli_core_trn</td></tr><tr><th>Types</th><td>gene, target</td></tr><tr><th>Coefficients</th><td>(0.0, 1.0)</td></tr><tr><th>Active</th><td>True</td></tr><tr><th>Reactions</th><td>FRUpts2, GLCpts</td></tr><tr><th>Interaction</th><td>b2416 || 1 = 1</td></tr><tr><th>Regulators</th><td></td></tr>\n",
       "            </table>\n",
       "        "
      ],
      "text/plain": [
       "b2416 || 1 = 1"
      ]
     },
     "execution_count": 17,
     "metadata": {},
     "output_type": "execute_result"
    }
   ],
   "source": [
    "old_gem_model.genes['b2416']"
   ]
  },
  {
   "cell_type": "code",
   "execution_count": 3,
   "metadata": {},
   "outputs": [],
   "source": [
    "import time\n"
   ]
  },
  {
   "cell_type": "code",
   "execution_count": 4,
   "metadata": {},
   "outputs": [],
   "source": [
    "trn_model = \"/home/sebastiao_zoio/Documents/test_mewpy/mewpy/examples/models/germ/e_coli_core_trn.csv\"\n",
    "\n",
    "trn_reader = Reader(Engines.BooleanRegulatoryCSV,\n",
    "                    trn_model,\n",
    "                    sep=',',\n",
    "                    id_col=0,\n",
    "                    rule_col=2,\n",
    "                    aliases_cols=[1],\n",
    "                    header=0)"
   ]
  },
  {
   "cell_type": "code",
   "execution_count": 5,
   "metadata": {},
   "outputs": [],
   "source": [
    "def get_new_times():\n",
    "    start = time.process_time()\n",
    "    reframed_model = read_sbml_model(\"/home/sebastiao_zoio/Documents/test_mewpy/mewpy/examples/models/germ/e_coli_core.xml\")\n",
    "    reframed_time = time.process_time() - start\n",
    "    start = time.process_time()\n",
    "    reframed_reader = Reader(Engines.CobraModelEngine, reframed_model)\n",
    "    reader_time = time.process_time() - start\n",
    "    start = time.process_time()\n",
    "    #read_model(reframed_reader)\n",
    "    read_model(reframed_reader, trn_reader)\n",
    "    read_model_time = time.process_time() - start\n",
    "    return reframed_time,reader_time, read_model_time"
   ]
  },
  {
   "cell_type": "code",
   "execution_count": 6,
   "metadata": {},
   "outputs": [],
   "source": [
    "times = []\n",
    "\n",
    "for e in range(50):\n",
    "    times.append(get_new_times())\n",
    "\n",
    "times\n",
    "reframed_times = 0.0\n",
    "reader_times = 0.0\n",
    "read_model_times = 0.0\n",
    "for t in times:\n",
    "    reframed_times += t[0]\n",
    "    reader_times += t[1]\n",
    "    read_model_times += t[2]\n",
    "\n",
    "n = len(times)\n",
    "new_times_means = reframed_times/n, reader_times/n, read_model_times/n"
   ]
  },
  {
   "cell_type": "code",
   "execution_count": 7,
   "metadata": {},
   "outputs": [
    {
     "data": {
      "text/plain": [
       "(0.22775526887999972, 6.690497999951361e-05, 0.60762382406)"
      ]
     },
     "execution_count": 7,
     "metadata": {},
     "output_type": "execute_result"
    }
   ],
   "source": [
    "new_times_means"
   ]
  },
  {
   "cell_type": "code",
   "execution_count": 25,
   "metadata": {},
   "outputs": [],
   "source": [
    "def get_old_times():\n",
    "    \"\"\" start = time.process_time()\n",
    "    cobra_model = read_sbml_model(\"/home/sebastiao_zoio/Documents/test_mewpy/mewpy/examples/models/germ/e_coli_core.xml\")\n",
    "    cobra_time = time.process_time() - start \"\"\"\n",
    "    start = time.process_time()\n",
    "    gem_reader = Reader(Engines.MetabolicSBML, \"/home/sebastiao_zoio/Documents/test_mewpy/mewpy/examples/models/germ/e_coli_core.xml\")\n",
    "    reader_time = time.process_time() - start\n",
    "    start = time.process_time()\n",
    "    read_model(gem_reader, trn_reader)\n",
    "    read_model_time = time.process_time() - start\n",
    "    return reader_time, read_model_time"
   ]
  },
  {
   "cell_type": "code",
   "execution_count": 10,
   "metadata": {},
   "outputs": [
    {
     "data": {
      "text/plain": [
       "(0.0, 5.214170000051865e-05, 0.49308693479999877)"
      ]
     },
     "execution_count": 10,
     "metadata": {},
     "output_type": "execute_result"
    }
   ],
   "source": [
    "times = []\n",
    "\n",
    "for e in range(20):\n",
    "    times.append(get_old_times())\n",
    "\n",
    "times\n",
    "reader_times = 0.0\n",
    "read_model_times = 0.0\n",
    "for t in times:\n",
    "    reader_times += t[0]\n",
    "    read_model_times += t[1]\n",
    "\n",
    "n = len(times)\n",
    "old_times_means = 0.0, reader_times/n, read_model_times/n\n",
    "old_times_means"
   ]
  },
  {
   "cell_type": "code",
   "execution_count": 32,
   "metadata": {},
   "outputs": [],
   "source": [
    "def get_fba_times(model):\n",
    "    start = time.process_time()\n",
    "    fba = RFBA(model)\n",
    "    constructor_time = time.process_time() - start\n",
    "\n",
    "    start = time.process_time()\n",
    "    fba = fba.build()\n",
    "    build_time = time.process_time() - start\n",
    "\n",
    "    start = time.process_time()\n",
    "    fba = fba.optimize()\n",
    "    optimize_time = time.process_time() - start\n",
    "\n",
    "    return constructor_time, build_time, optimize_time"
   ]
  },
  {
   "cell_type": "code",
   "execution_count": 33,
   "metadata": {},
   "outputs": [
    {
     "data": {
      "text/plain": [
       "(2.345351999565537e-05, 1.1136587577199988, 0.0716094681200002)"
      ]
     },
     "execution_count": 33,
     "metadata": {},
     "output_type": "execute_result"
    }
   ],
   "source": [
    "times = [0.0, 0.0, 0.0]\n",
    "for i in range(50):\n",
    "    new_time = get_fba_times(germ_model)\n",
    "    times[0] += new_time[0]\n",
    "    times[1] += new_time[1]\n",
    "    times[2] += new_time[2]\n",
    "\n",
    "times[0]/50 ,times[1]/50, times[2]/50"
   ]
  },
  {
   "cell_type": "code",
   "execution_count": 34,
   "metadata": {},
   "outputs": [
    {
     "data": {
      "text/plain": [
       "(2.901894000046923e-05, 0.020055404000002, 0.008102763099992671)"
      ]
     },
     "execution_count": 34,
     "metadata": {},
     "output_type": "execute_result"
    }
   ],
   "source": [
    "times = [0.0, 0.0, 0.0]\n",
    "for i in range(50):\n",
    "    new_time = get_fba_times(old_gem_model)\n",
    "    times[0] += new_time[0]\n",
    "    times[1] += new_time[1]\n",
    "    times[2] += new_time[2]\n",
    "\n",
    "times[0]/50 ,times[1]/50, times[2]/50"
   ]
  },
  {
   "cell_type": "code",
   "execution_count": 43,
   "metadata": {},
   "outputs": [
    {
     "data": {
      "text/plain": [
       "0.11332804028000083"
      ]
     },
     "execution_count": 43,
     "metadata": {},
     "output_type": "execute_result"
    }
   ],
   "source": [
    "ttime= 0.0\n",
    "n=50\n",
    "for e in range(n):\n",
    "    start = time.process_time()\n",
    "    fva(germ_model)\n",
    "    ttime += time.process_time() - start\n",
    "ttime/n"
   ]
  },
  {
   "cell_type": "code",
   "execution_count": 44,
   "metadata": {},
   "outputs": [
    {
     "data": {
      "text/plain": [
       "0.16623355740000165"
      ]
     },
     "execution_count": 44,
     "metadata": {},
     "output_type": "execute_result"
    }
   ],
   "source": [
    "ttime= 0.0\n",
    "n=50\n",
    "for e in range(n):\n",
    "    start = time.process_time()\n",
    "    fva(old_gem_model)\n",
    "    ttime += time.process_time() - start\n",
    "ttime/n"
   ]
  }
 ],
 "metadata": {
  "kernelspec": {
   "display_name": "Python 3",
   "language": "python",
   "name": "python3"
  },
  "language_info": {
   "codemirror_mode": {
    "name": "ipython",
    "version": 3
   },
   "file_extension": ".py",
   "mimetype": "text/x-python",
   "name": "python",
   "nbconvert_exporter": "python",
   "pygments_lexer": "ipython3",
   "version": "3.8.10"
  },
  "orig_nbformat": 4,
  "vscode": {
   "interpreter": {
    "hash": "31f2aee4e71d21fbe5cf8b01ff0e069b9275f58929596ceb00d14d90e3e16cd6"
   }
  }
 },
 "nbformat": 4,
 "nbformat_minor": 2
}
